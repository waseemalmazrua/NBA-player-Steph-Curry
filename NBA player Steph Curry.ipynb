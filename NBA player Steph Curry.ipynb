{
 "cells": [
  {
   "cell_type": "markdown",
   "id": "875b5480-e856-4869-8185-32d218aa15b4",
   "metadata": {},
   "source": [
    "# 🏀 NBA Player Steph Curry - Shot Probability Analysis\n",
    "\n",
    "\"\"\"\n",
    "Project Description:\n",
    "\n",
    "In this project, we will analyze real shooting data for NBA player Steph Curry to understand his shooting behavior and performance. \n",
    "We will use probability concepts to answer questions such as:\n",
    "\n",
    "- What is the probability of Steph Curry making a shot?\n",
    "- What is the probability of making a 3-point shot?\n",
    "- What is the probability of making a shot given that it's from long distance?\n",
    "\n",
    "This analysis helps us understand patterns in player performance and make data-informed predictions.\n",
    "\n",
    "🔧 Tools Used:\n",
    "- Python\n",
    "- pandas, matplotlib, seaborn\n",
    "\n",
    " Concepts Covered:\n",
    "- Marginal Probability\n",
    "- Conditional Probability\n",
    "- Joint Probability\n",
    "- Data Visualization\n",
    "\n",
    "Let's begin by loading the dataset and exploring the data structure.\n"
   ]
  },
  {
   "cell_type": "code",
   "execution_count": 1,
   "id": "8dbd10bf-b8bf-4e14-b0ab-739b2cb10625",
   "metadata": {},
   "outputs": [],
   "source": [
    "import numpy as np\n",
    "import pandas as pd\n",
    "import matplotlib.pyplot as plt\n",
    "import seaborn as sns "
   ]
  },
  {
   "cell_type": "code",
   "execution_count": 2,
   "id": "480f5f75-5292-4d2f-9e39-26510080c0bf",
   "metadata": {},
   "outputs": [
    {
     "data": {
      "text/html": [
       "<div>\n",
       "<style scoped>\n",
       "    .dataframe tbody tr th:only-of-type {\n",
       "        vertical-align: middle;\n",
       "    }\n",
       "\n",
       "    .dataframe tbody tr th {\n",
       "        vertical-align: top;\n",
       "    }\n",
       "\n",
       "    .dataframe thead th {\n",
       "        text-align: right;\n",
       "    }\n",
       "</style>\n",
       "<table border=\"1\" class=\"dataframe\">\n",
       "  <thead>\n",
       "    <tr style=\"text-align: right;\">\n",
       "      <th></th>\n",
       "      <th>top</th>\n",
       "      <th>left</th>\n",
       "      <th>date</th>\n",
       "      <th>qtr</th>\n",
       "      <th>time_remaining</th>\n",
       "      <th>result</th>\n",
       "      <th>shot_type</th>\n",
       "      <th>distance_ft</th>\n",
       "      <th>lead</th>\n",
       "      <th>player_team_score</th>\n",
       "      <th>opponent_team_score</th>\n",
       "      <th>opponent</th>\n",
       "      <th>team</th>\n",
       "      <th>season</th>\n",
       "      <th>color</th>\n",
       "    </tr>\n",
       "  </thead>\n",
       "  <tbody>\n",
       "    <tr>\n",
       "      <th>0</th>\n",
       "      <td>63</td>\n",
       "      <td>300</td>\n",
       "      <td>Oct 18, 2022</td>\n",
       "      <td>1st Qtr</td>\n",
       "      <td>7:27</td>\n",
       "      <td>False</td>\n",
       "      <td>2</td>\n",
       "      <td>6</td>\n",
       "      <td>True</td>\n",
       "      <td>9</td>\n",
       "      <td>6</td>\n",
       "      <td>LAL</td>\n",
       "      <td>GSW</td>\n",
       "      <td>2023</td>\n",
       "      <td>red</td>\n",
       "    </tr>\n",
       "    <tr>\n",
       "      <th>1</th>\n",
       "      <td>133</td>\n",
       "      <td>389</td>\n",
       "      <td>Oct 18, 2022</td>\n",
       "      <td>1st Qtr</td>\n",
       "      <td>7:22</td>\n",
       "      <td>True</td>\n",
       "      <td>2</td>\n",
       "      <td>17</td>\n",
       "      <td>True</td>\n",
       "      <td>11</td>\n",
       "      <td>6</td>\n",
       "      <td>LAL</td>\n",
       "      <td>GSW</td>\n",
       "      <td>2023</td>\n",
       "      <td>green</td>\n",
       "    </tr>\n",
       "    <tr>\n",
       "      <th>2</th>\n",
       "      <td>326</td>\n",
       "      <td>247</td>\n",
       "      <td>Oct 18, 2022</td>\n",
       "      <td>1st Qtr</td>\n",
       "      <td>7:11</td>\n",
       "      <td>False</td>\n",
       "      <td>3</td>\n",
       "      <td>27</td>\n",
       "      <td>True</td>\n",
       "      <td>11</td>\n",
       "      <td>6</td>\n",
       "      <td>LAL</td>\n",
       "      <td>GSW</td>\n",
       "      <td>2023</td>\n",
       "      <td>red</td>\n",
       "    </tr>\n",
       "    <tr>\n",
       "      <th>3</th>\n",
       "      <td>249</td>\n",
       "      <td>89</td>\n",
       "      <td>Oct 18, 2022</td>\n",
       "      <td>1st Qtr</td>\n",
       "      <td>5:16</td>\n",
       "      <td>False</td>\n",
       "      <td>3</td>\n",
       "      <td>25</td>\n",
       "      <td>True</td>\n",
       "      <td>19</td>\n",
       "      <td>13</td>\n",
       "      <td>LAL</td>\n",
       "      <td>GSW</td>\n",
       "      <td>2023</td>\n",
       "      <td>red</td>\n",
       "    </tr>\n",
       "    <tr>\n",
       "      <th>4</th>\n",
       "      <td>282</td>\n",
       "      <td>158</td>\n",
       "      <td>Oct 18, 2022</td>\n",
       "      <td>1st Qtr</td>\n",
       "      <td>3:52</td>\n",
       "      <td>False</td>\n",
       "      <td>3</td>\n",
       "      <td>24</td>\n",
       "      <td>True</td>\n",
       "      <td>22</td>\n",
       "      <td>17</td>\n",
       "      <td>LAL</td>\n",
       "      <td>GSW</td>\n",
       "      <td>2023</td>\n",
       "      <td>red</td>\n",
       "    </tr>\n",
       "  </tbody>\n",
       "</table>\n",
       "</div>"
      ],
      "text/plain": [
       "   top  left          date      qtr time_remaining  result  shot_type  \\\n",
       "0   63   300  Oct 18, 2022  1st Qtr           7:27   False          2   \n",
       "1  133   389  Oct 18, 2022  1st Qtr           7:22    True          2   \n",
       "2  326   247  Oct 18, 2022  1st Qtr           7:11   False          3   \n",
       "3  249    89  Oct 18, 2022  1st Qtr           5:16   False          3   \n",
       "4  282   158  Oct 18, 2022  1st Qtr           3:52   False          3   \n",
       "\n",
       "   distance_ft  lead  player_team_score  opponent_team_score opponent team  \\\n",
       "0            6  True                  9                    6      LAL  GSW   \n",
       "1           17  True                 11                    6      LAL  GSW   \n",
       "2           27  True                 11                    6      LAL  GSW   \n",
       "3           25  True                 19                   13      LAL  GSW   \n",
       "4           24  True                 22                   17      LAL  GSW   \n",
       "\n",
       "   season  color  \n",
       "0    2023    red  \n",
       "1    2023  green  \n",
       "2    2023    red  \n",
       "3    2023    red  \n",
       "4    2023    red  "
      ]
     },
     "execution_count": 2,
     "metadata": {},
     "output_type": "execute_result"
    }
   ],
   "source": [
    "df = pd.read_csv(r\"C:\\Users\\wasee\\OneDrive\\Desktop\\stephen_curry_shots_2023.csv\")\n",
    "df.head()"
   ]
  },
  {
   "cell_type": "code",
   "execution_count": 4,
   "id": "1a6b8e79-9c4f-4e5e-bc73-918e292957f7",
   "metadata": {},
   "outputs": [
    {
     "name": "stdout",
     "output_type": "stream",
     "text": [
      "<class 'pandas.core.frame.DataFrame'>\n",
      "RangeIndex: 1434 entries, 0 to 1433\n",
      "Data columns (total 15 columns):\n",
      " #   Column               Non-Null Count  Dtype \n",
      "---  ------               --------------  ----- \n",
      " 0   top                  1434 non-null   int64 \n",
      " 1   left                 1434 non-null   int64 \n",
      " 2   date                 1434 non-null   object\n",
      " 3   qtr                  1434 non-null   object\n",
      " 4   time_remaining       1434 non-null   object\n",
      " 5   result               1434 non-null   bool  \n",
      " 6   shot_type            1434 non-null   int64 \n",
      " 7   distance_ft          1434 non-null   int64 \n",
      " 8   lead                 1434 non-null   bool  \n",
      " 9   player_team_score    1434 non-null   int64 \n",
      " 10  opponent_team_score  1434 non-null   int64 \n",
      " 11  opponent             1434 non-null   object\n",
      " 12  team                 1434 non-null   object\n",
      " 13  season               1434 non-null   int64 \n",
      " 14  color                1434 non-null   object\n",
      "dtypes: bool(2), int64(7), object(6)\n",
      "memory usage: 148.6+ KB\n",
      "Shot result: [False  True]\n",
      "Shot type: [2 3]\n",
      "Quarter: ['1st Qtr' '2nd Qtr' '3rd Qtr' '4th Qtr' '1st OT']\n"
     ]
    }
   ],
   "source": [
    "\n",
    "df.info()\n",
    "\n",
    "\n",
    "df.describe()\n",
    "\n",
    "# معرفة القيم الفريدة في أهم الأعمدة\n",
    "print(\"Shot result:\", df['result'].unique())\n",
    "print(\"Shot type:\", df['shot_type'].unique())\n",
    "print(\"Quarter:\", df['qtr'].unique())\n"
   ]
  },
  {
   "cell_type": "code",
   "execution_count": 6,
   "id": "4e61cc06-5fcf-4b54-a6e9-cfd734e6e072",
   "metadata": {
    "scrolled": true
   },
   "outputs": [
    {
     "name": "stdout",
     "output_type": "stream",
     "text": [
      "📊 Overall Shooting Statistics\n",
      "• Total Shots: 1434\n",
      "• Made Shots: 703\n",
      "• Missed Shots: 731\n",
      "• 2-Point Attempts: 648\n",
      "• 3-Point Attempts: 786\n",
      "• 3-Point Made: 329\n",
      "• Overall Shooting Accuracy: 49.02%\n"
     ]
    }
   ],
   "source": [
    "# إجمالي عدد التسديدات\n",
    "total_shots = len(df)\n",
    "\n",
    "# عدد التسديدات الناجحة (result = True)\n",
    "made_shots = df['result'].sum()\n",
    "\n",
    "# عدد التسديدات الفاشلة\n",
    "missed_shots = total_shots - made_shots\n",
    "\n",
    "# عدد تسديدات النوع 2 و 3\n",
    "two_pt_attempts = (df['shot_type'] == 2).sum()\n",
    "three_pt_attempts = (df['shot_type'] == 3).sum()\n",
    "\n",
    "# عدد التسديدات الناجحة من النوع 3\n",
    "three_pt_made = df[(df['shot_type'] == 3) & (df['result'] == True)].shape[0]\n",
    "\n",
    "# حساب الدقة العامة\n",
    "overall_accuracy = made_shots / total_shots * 100\n",
    "\n",
    "# عرض النتائج\n",
    "print(\"📊 Overall Shooting Statistics\")\n",
    "print(f\"• Total Shots: {total_shots}\")\n",
    "print(f\"• Made Shots: {made_shots}\")\n",
    "print(f\"• Missed Shots: {missed_shots}\")\n",
    "print(f\"• 2-Point Attempts: {two_pt_attempts}\")\n",
    "print(f\"• 3-Point Attempts: {three_pt_attempts}\")\n",
    "print(f\"• 3-Point Made: {three_pt_made}\")\n",
    "print(f\"• Overall Shooting Accuracy: {overall_accuracy:.2f}%\")\n"
   ]
  },
  {
   "cell_type": "code",
   "execution_count": 14,
   "id": "fcda8b04-03c8-4245-a0b0-29157c1b7d12",
   "metadata": {},
   "outputs": [
    {
     "data": {
      "image/png": "[encoded data removed]",
      "text/plain": [
       "<Figure size 800x500 with 1 Axes>"
      ]
     },
     "metadata": {},
     "output_type": "display_data"
    }
   ],
   "source": [
    "\n",
    "counts = {\n",
    "    '2PT Attempts': two_pt_attempts,\n",
    "    '3PT Attempts': three_pt_attempts,\n",
    "    '3PT Made': three_pt_made,\n",
    "    'Total Made': made_shots,\n",
    "    'Missed': missed_shots,\n",
    "}\n",
    "\n",
    "plt.figure(figsize=(8,5))\n",
    "sns.barplot(x=list(counts.keys()), y=list(counts.values()))\n",
    "plt.title(\"Shooting Statistics Breakdown\")\n",
    "plt.ylabel(\"Count\")\n",
    "plt.xticks(rotation=30)\n",
    "plt.tight_layout()\n",
    "plt.show()\n"
   ]
  },
  {
   "cell_type": "markdown",
   "id": "4b9fe90c-103e-42a4-83de-a8f4827455ef",
   "metadata": {},
   "source": [
    "### “Steph Curry attempted more 3-point shots than 2-point shots in this dataset, but his overall accuracy was below 50%."
   ]
  },
  {
   "cell_type": "code",
   "execution_count": 7,
   "id": "89b0335d-d9d6-4825-9414-4d86591041c3",
   "metadata": {},
   "outputs": [
    {
     "name": "stdout",
     "output_type": "stream",
     "text": [
      "📊 Probabilities\n",
      "• P(Made): 0.49\n",
      "• P(Missed): 0.51\n",
      "• P(3PT): 0.55\n",
      "• P(Made | 3PT): 0.42\n",
      "• P(Made ∩ 3PT): 0.23\n"
     ]
    }
   ],
   "source": [
    "# 🔢 الاحتمالات الأساسية\n",
    "p_made = made_shots / total_shots\n",
    "p_missed = missed_shots / total_shots\n",
    "p_3pt = three_pt_attempts / total_shots\n",
    "p_made_given_3pt = three_pt_made / three_pt_attempts\n",
    "p_joint_made_and_3pt = three_pt_made / total_shots\n",
    "\n",
    "# عرض النتائج\n",
    "print(\"📊 Probabilities\")\n",
    "print(f\"• P(Made): {p_made:.2f}\")\n",
    "print(f\"• P(Missed): {p_missed:.2f}\")\n",
    "print(f\"• P(3PT): {p_3pt:.2f}\")\n",
    "print(f\"• P(Made | 3PT): {p_made_given_3pt:.2f}\")\n",
    "print(f\"• P(Made ∩ 3PT): {p_joint_made_and_3pt:.2f}\")\n"
   ]
  },
  {
   "cell_type": "code",
   "execution_count": 15,
   "id": "fb19c0c3-7902-4700-a8f8-dc38daa837d4",
   "metadata": {},
   "outputs": [
    {
     "data": {
      "image/png": "[encoded data removed]",
      "text/plain": [
       "<Figure size 640x480 with 1 Axes>"
      ]
     },
     "metadata": {},
     "output_type": "display_data"
    }
   ],
   "source": [
    "plt.pie([p_made, p_missed], labels=[\"Made\", \"Missed\"], autopct='%1.1f%%', colors=['green', 'red'])\n",
    "plt.title(\"Shot Outcome Probabilities\")\n",
    "plt.show()\n"
   ]
  },
  {
   "cell_type": "markdown",
   "id": "db53290a-f0b5-414c-a45c-89d16d016bd9",
   "metadata": {},
   "source": [
    "### \"The pie chart illustrates the near-even split between successful and missed shots, with a slightly higher proportion of missed attempts.\""
   ]
  },
  {
   "cell_type": "code",
   "execution_count": null,
   "id": "1671bc2b-a7c5-450d-a39c-0a449f35aa0c",
   "metadata": {},
   "outputs": [],
   "source": []
  },
  {
   "cell_type": "code",
   "execution_count": null,
   "id": "e356c50d-dfca-43ac-b831-1ed86f5af18a",
   "metadata": {},
   "outputs": [],
   "source": []
  },
  {
   "cell_type": "code",
   "execution_count": null,
   "id": "02dc19b4-1f78-4c24-a347-bb9a36926c75",
   "metadata": {},
   "outputs": [],
   "source": []
  },
  {
   "cell_type": "code",
   "execution_count": 9,
   "id": "f034a6d9-250b-4731-ae98-933a639a3668",
   "metadata": {},
   "outputs": [
    {
     "name": "stdout",
     "output_type": "stream",
     "text": [
      "P(Made | 4th Qtr) = 0.49\n"
     ]
    }
   ],
   "source": [
    "# تسديدات الربع الرابع\n",
    "q4_df = df[df['qtr'] == '4th Qtr']\n",
    "\n",
    "# عدد التسديدات الناجحة في الربع الرابع\n",
    "q4_made = q4_df['result'].sum()\n",
    "\n",
    "# P(Made | 4th Qtr)\n",
    "p_made_given_q4 = q4_made / len(q4_df)\n",
    "\n",
    "print(f\"P(Made | 4th Qtr) = {p_made_given_q4:.2f}\")\n"
   ]
  },
  {
   "cell_type": "code",
   "execution_count": 10,
   "id": "df6e56f9-2fd3-4069-845c-bf8d81e03967",
   "metadata": {},
   "outputs": [
    {
     "name": "stdout",
     "output_type": "stream",
     "text": [
      "P(Made | Losing) = 0.43\n"
     ]
    }
   ],
   "source": [
    "# تصفية الحالات التي كان الفريق فيها خاسر (lead = False)\n",
    "losing_df = df[df['lead'] == False]\n",
    "\n",
    "# عدد التسديدات الناجحة أثناء التأخر\n",
    "made_while_losing = losing_df['result'].sum()\n",
    "\n",
    "# P(Made | Losing)\n",
    "p_made_given_losing = made_while_losing / len(losing_df)\n",
    "\n",
    "print(f\"P(Made | Losing) = {p_made_given_losing:.2f}\")\n"
   ]
  },
  {
   "cell_type": "code",
   "execution_count": 11,
   "id": "3827d219-c03b-45e1-af9c-2089e45d5c7a",
   "metadata": {},
   "outputs": [
    {
     "name": "stdout",
     "output_type": "stream",
     "text": [
      "P(Made | Last 2 min of Q4) = 0.41\n"
     ]
    }
   ],
   "source": [
    "# تحويل الوقت إلى ثواني\n",
    "df['time_seconds'] = df['time_remaining'].apply(lambda x: int(x.split(':')[0]) * 60 + int(x.split(':')[1]))\n",
    "\n",
    "# فلترة الربع الرابع وآخر دقيقتين\n",
    "last_2min_q4 = df[(df['qtr'] == '4th Qtr') & (df['time_seconds'] <= 120)]\n",
    "\n",
    "# احتمال النجاح\n",
    "p_made_last2_q4 = last_2min_q4['result'].sum() / len(last_2min_q4)\n",
    "\n",
    "print(f\"P(Made | Last 2 min of Q4) = {p_made_last2_q4:.2f}\")\n"
   ]
  },
  {
   "cell_type": "code",
   "execution_count": 16,
   "id": "6f14697c-cc7a-4f5d-bb7c-0033c253162d",
   "metadata": {
    "scrolled": true
   },
   "outputs": [
    {
     "data": {
      "image/png": "[encoded data removed]",
      "text/plain": [
       "<Figure size 640x480 with 1 Axes>"
      ]
     },
     "metadata": {},
     "output_type": "display_data"
    }
   ],
   "source": [
    "conditions = ['4th Qtr', 'Losing', 'Last 2 min Q4']\n",
    "values = [p_made_given_q4, p_made_given_losing, p_made_last2_q4]\n",
    "\n",
    "plt.bar(conditions, values, color='orange')\n",
    "plt.ylim(0,1)\n",
    "plt.ylabel(\"Probability\")\n",
    "plt.title(\"P(Made | Future Conditions)\")\n",
    "plt.show()\n"
   ]
  },
  {
   "cell_type": "markdown",
   "id": "106ab3b4-6842-4101-8a36-eb9030d7322f",
   "metadata": {},
   "source": [
    "### \"Steph Curry’s shot success slightly decreases in high-pressure scenarios, especially during the last 2 minutes of the 4th quarter.\""
   ]
  },
  {
   "cell_type": "code",
   "execution_count": 12,
   "id": "4694a1fe-f3f0-4ed9-ba79-9f2ac6e5c28b",
   "metadata": {},
   "outputs": [
    {
     "name": "stdout",
     "output_type": "stream",
     "text": [
      "P(3PT | Made) = 0.47\n"
     ]
    }
   ],
   "source": [
    "# تصفية التسديدات الناجحة فقط\n",
    "made_df = df[df['result'] == True]\n",
    "\n",
    "# كم منها كانت 3 نقاط\n",
    "made_and_3pt = (made_df['shot_type'] == 3).sum()\n",
    "\n",
    "# P(3PT | Made)\n",
    "p_3pt_given_made = made_and_3pt / len(made_df)\n",
    "\n",
    "print(f\"P(3PT | Made) = {p_3pt_given_made:.2f}\")\n"
   ]
  },
  {
   "cell_type": "code",
   "execution_count": 13,
   "id": "b76911b9-069e-41fa-a4d7-cedc404c307a",
   "metadata": {},
   "outputs": [
    {
     "name": "stdout",
     "output_type": "stream",
     "text": [
      "P(4th Qtr | Made) = 0.26\n"
     ]
    }
   ],
   "source": [
    "# كم من التسديدات الناجحة كانت في الربع الرابع\n",
    "made_in_q4 = (made_df['qtr'] == '4th Qtr').sum()\n",
    "\n",
    "# P(4th Qtr | Made)\n",
    "p_q4_given_made = made_in_q4 / len(made_df)\n",
    "\n",
    "print(f\"P(4th Qtr | Made) = {p_q4_given_made:.2f}\")\n"
   ]
  },
  {
   "cell_type": "code",
   "execution_count": 17,
   "id": "7b04e969-40d2-4d2d-ad6d-d4c0ec69b58e",
   "metadata": {},
   "outputs": [
    {
     "data": {
      "image/png": "[encoded data removed]",
      "text/plain": [
       "<Figure size 640x480 with 1 Axes>"
      ]
     },
     "metadata": {},
     "output_type": "display_data"
    }
   ],
   "source": [
    "conditions = ['3PT | Made', '4th Qtr | Made']\n",
    "values = [p_3pt_given_made, p_q4_given_made]\n",
    "\n",
    "plt.bar(conditions, values, color='purple')\n",
    "plt.ylim(0,1)\n",
    "plt.ylabel(\"Probability\")\n",
    "plt.title(\"Retrospective Conditional Probabilities\")\n",
    "plt.show()\n"
   ]
  },
  {
   "cell_type": "markdown",
   "id": "82ab1f36-b5a8-4cd2-b2dc-a6c6a424e5d1",
   "metadata": {},
   "source": [
    "### \"Nearly half of the successful shots were 3-pointers, while only about a quarter occurred in the 4th quarter. This shows Curry’s consistency across quarters but clear preference for long-range shots.\""
   ]
  },
  {
   "cell_type": "code",
   "execution_count": null,
   "id": "8c18451a-272a-4593-9236-420333ec4831",
   "metadata": {},
   "outputs": [],
   "source": []
  }
 ],
 "metadata": {
  "kernelspec": {
   "display_name": "Python [conda env:base] *",
   "language": "python",
   "name": "conda-base-py"
  },
  "language_info": {
   "codemirror_mode": {
    "name": "ipython",
    "version": 3
   },
   "file_extension": ".py",
   "mimetype": "text/x-python",
   "name": "python",
   "nbconvert_exporter": "python",
   "pygments_lexer": "ipython3",
   "version": "3.12.7"
  }
 },
 "nbformat": 4,
 "nbformat_minor": 5
}
